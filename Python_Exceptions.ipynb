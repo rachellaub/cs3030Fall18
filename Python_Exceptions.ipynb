{
 "cells": [
  {
   "cell_type": "markdown",
   "metadata": {},
   "source": [
    "## Handling Exceptions\n",
    "Is the process of stopping the normal flow and continuing at some surrounding context or code block.The event of interrupting normal flow is called **raise exception**. Key concepts:\n",
    "* Raise an exception to interrupt program flow\n",
    "* Handle an exception to resume control\n",
    "* Unhandle exceptions will terminate the program\n",
    "* Exception object containing information about the exception event"
   ]
  },
  {
   "cell_type": "code",
   "execution_count": 1,
   "metadata": {},
   "outputs": [],
   "source": [
    "# see roots.py (exceptions.py)and  in cs3030/pythoncode"
   ]
  },
  {
   "cell_type": "markdown",
   "metadata": {},
   "source": [
    "## Handling Error\n",
    "Use the\n",
    "```python3\n",
    "try:\n",
    "    #something\n",
    "except <Exception>:\n",
    "    #something\n",
    "```"
   ]
  },
  {
   "cell_type": "code",
   "execution_count": null,
   "metadata": {},
   "outputs": [],
   "source": []
  }
 ],
 "metadata": {
  "kernelspec": {
   "display_name": "Python 3",
   "language": "python",
   "name": "python3"
  },
  "language_info": {
   "codemirror_mode": {
    "name": "ipython",
    "version": 3
   },
   "file_extension": ".py",
   "mimetype": "text/x-python",
   "name": "python",
   "nbconvert_exporter": "python",
   "pygments_lexer": "ipython3",
   "version": "3.6.6"
  }
 },
 "nbformat": 4,
 "nbformat_minor": 2
}
