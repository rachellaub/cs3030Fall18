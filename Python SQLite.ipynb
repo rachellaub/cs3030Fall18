{
 "cells": [
  {
   "cell_type": "markdown",
   "metadata": {},
   "source": [
    "# SQLite\n",
    "As the name suggest is a lite version of SQL Database.\n",
    "\n",
    "See: http://www.sqlite.org/index.html"
   ]
  },
  {
   "cell_type": "markdown",
   "metadata": {},
   "source": [
    "## Establish a Connection and create a cursor.\n",
    "Use the **sqlite3** module\n",
    "\n",
    "see: https://docs.python.org/3.6/library/"
   ]
  },
  {
   "cell_type": "code",
   "execution_count": 8,
   "metadata": {},
   "outputs": [],
   "source": [
    "import sqlite3\n",
    "\n",
    "conn = sqlite3.connect(\"tutorial.db\")\n",
    "cur = conn.cursor()"
   ]
  },
  {
   "cell_type": "markdown",
   "metadata": {},
   "source": [
    "If the database does not exist in the directory, it will be created.\n",
    "\n",
    "A database may only contain a single table, or it may contain thousands of tables. Let's make a table"
   ]
  },
  {
   "cell_type": "code",
   "execution_count": 7,
   "metadata": {},
   "outputs": [],
   "source": [
    "def create_table():\n",
    "    cur.execute(\"CREATE TABLE IF NOT EXISTS stuffToPlot(unix REAL, datestamp TEXT, keyword TEXT, value REAL)\")"
   ]
  },
  {
   "cell_type": "markdown",
   "metadata": {},
   "source": [
    "Now create a definition to insert data"
   ]
  },
  {
   "cell_type": "code",
   "execution_count": 8,
   "metadata": {},
   "outputs": [],
   "source": [
    "def data_entry():\n",
    "    cur.execute(\"INSERT INTO stuffToPlot VALUES (1456753234, '2018-11-14 09:02:45', 'Python', 6)\")\n",
    "    #Commit change to DB\n",
    "    conn.commit()"
   ]
  },
  {
   "cell_type": "code",
   "execution_count": 9,
   "metadata": {},
   "outputs": [],
   "source": [
    "# Test it\n",
    "# Create a table\n",
    "create_table()\n",
    "# Insert data\n",
    "data_entry()"
   ]
  },
  {
   "cell_type": "markdown",
   "metadata": {},
   "source": [
    "## Dynamic Inserting into Database"
   ]
  },
  {
   "cell_type": "code",
   "execution_count": 9,
   "metadata": {},
   "outputs": [],
   "source": [
    "import time\n",
    "import datetime\n",
    "import random\n",
    "\n",
    "# New def for dynamic data\n",
    "def dynamic_data_entry():\n",
    "    m_unix = int(time.time())\n",
    "    m_date = str(datetime.datetime.fromtimestamp(m_unix).strftime('%Y-%m-%d %H:%M:%S'))\n",
    "    m_keyword = 'Python'\n",
    "    m_value = random.randrange(0, 10)\n",
    "    \n",
    "    # execute it                         These are table fields              dynamic values\n",
    "    cur.execute(\"INSERT INTO stuffToPlot (unix, datestamp, keyword, value) VALUES(?, ?, ?, ?)\", (m_unix, m_date, m_keyword, m_value))\n",
    "    \n",
    "    #commit\n",
    "    conn.commit()\n",
    "\n",
    "#call it\n",
    "dynamic_data_entry()"
   ]
  },
  {
   "cell_type": "markdown",
   "metadata": {},
   "source": [
    "## Read from Database"
   ]
  },
  {
   "cell_type": "code",
   "execution_count": 10,
   "metadata": {},
   "outputs": [
    {
     "name": "stdout",
     "output_type": "stream",
     "text": [
      "[(1456753234.0, '2018-11-14 09:02:45', 'Python', 6.0), (1542639079.0, '2018-11-19 14:51:19', 'Python', 7.0)]\n"
     ]
    }
   ],
   "source": [
    "def read_from_db():\n",
    "    cur.execute(\"SELECT * FROM stuffToPlot\")\n",
    "    data = cur.fetchall()\n",
    "    print(data)\n",
    "    \n",
    "#call it\n",
    "read_from_db()"
   ]
  },
  {
   "cell_type": "markdown",
   "metadata": {},
   "source": [
    "In files as play_sqlite.py"
   ]
  }
 ],
 "metadata": {
  "kernelspec": {
   "display_name": "Python 3",
   "language": "python",
   "name": "python3"
  },
  "language_info": {
   "codemirror_mode": {
    "name": "ipython",
    "version": 3
   },
   "file_extension": ".py",
   "mimetype": "text/x-python",
   "name": "python",
   "nbconvert_exporter": "python",
   "pygments_lexer": "ipython3",
   "version": "3.6.6"
  }
 },
 "nbformat": 4,
 "nbformat_minor": 2
}
